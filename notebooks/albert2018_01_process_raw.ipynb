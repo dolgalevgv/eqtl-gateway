{
 "cells": [
  {
   "cell_type": "code",
   "execution_count": 1,
   "id": "cd42ddc2-026e-4284-959b-a9afa2d3c57a",
   "metadata": {
    "execution": {
     "iopub.execute_input": "2024-11-25T11:04:35.315205Z",
     "iopub.status.busy": "2024-11-25T11:04:35.310925Z",
     "iopub.status.idle": "2024-11-25T11:04:40.674499Z",
     "shell.execute_reply": "2024-11-25T11:04:40.672100Z"
    }
   },
   "outputs": [],
   "source": [
    "suppressPackageStartupMessages({\n",
    "  library(biomaRt)\n",
    "  library(dplyr)\n",
    "  library(readr)\n",
    "  library(readxl)\n",
    "})"
   ]
  },
  {
   "cell_type": "code",
   "execution_count": 30,
   "id": "c4cd0a08-bd3a-4e93-b29a-23394b0c1342",
   "metadata": {
    "execution": {
     "iopub.execute_input": "2024-11-04T14:24:47.987903Z",
     "iopub.status.busy": "2024-11-04T14:24:47.986816Z",
     "iopub.status.idle": "2024-11-04T14:24:55.967370Z",
     "shell.execute_reply": "2024-11-04T14:24:55.966042Z"
    }
   },
   "outputs": [
    {
     "name": "stderr",
     "output_type": "stream",
     "text": [
      "\u001b[1m\u001b[22mNew names:\n",
      "\u001b[36m•\u001b[39m `` -> `...1`\n",
      "\u001b[1mRows: \u001b[22m\u001b[34m1012\u001b[39m \u001b[1mColumns: \u001b[22m\u001b[34m5721\u001b[39m\n",
      "\u001b[36m──\u001b[39m \u001b[1mColumn specification\u001b[22m \u001b[36m────────────────────────────────────────────────────────────────────────────────────────────────\u001b[39m\n",
      "\u001b[1mDelimiter:\u001b[22m \"\\t\"\n",
      "\u001b[31mchr\u001b[39m    (1): ...1\n",
      "\u001b[32mdbl\u001b[39m (5720): YAL062W, YAL061W, YAL060W, YAL059W, YAL058W, YAL056W, YAL055W, Y...\n",
      "\n",
      "\u001b[36mℹ\u001b[39m Use `spec()` to retrieve the full column specification for this data.\n",
      "\u001b[36mℹ\u001b[39m Specify the column types or set `show_col_types = FALSE` to quiet this message.\n"
     ]
    }
   ],
   "source": [
    "# Added an extra tab to the beginning of the file\n",
    "s1_expr <- readr::read_tsv(\"../data/alberts2018elife_yeast/raw/SI_Data_01_expressionValues.txt\")"
   ]
  },
  {
   "cell_type": "code",
   "execution_count": 31,
   "id": "e341b20b-541e-4473-bfcb-e3d665205453",
   "metadata": {
    "execution": {
     "iopub.execute_input": "2024-11-04T14:24:55.972217Z",
     "iopub.status.busy": "2024-11-04T14:24:55.971276Z",
     "iopub.status.idle": "2024-11-04T14:24:56.664725Z",
     "shell.execute_reply": "2024-11-04T14:24:56.663695Z"
    }
   },
   "outputs": [],
   "source": [
    "s1_expr <- s1_expr |>\n",
    "  dplyr::rename(segregant_id = `...1`) |>\n",
    "  dplyr::mutate(segregant_id = stringr::str_split_i(segregant_id, \"-\", 1)) |>  # Remove the uninformative part of the segregant id\n",
    "  tibble::column_to_rownames(\"segregant_id\") |>\n",
    "  t() |>\n",
    "  as.data.frame() |>\n",
    "  tibble::rownames_to_column(\"gene_id\")"
   ]
  },
  {
   "cell_type": "code",
   "execution_count": 32,
   "id": "444748d4-3ce1-44c8-9960-bcf2a7b413b1",
   "metadata": {
    "execution": {
     "iopub.execute_input": "2024-11-04T14:24:56.688802Z",
     "iopub.status.busy": "2024-11-04T14:24:56.688069Z",
     "iopub.status.idle": "2024-11-04T14:24:56.871798Z",
     "shell.execute_reply": "2024-11-04T14:24:56.870712Z"
    }
   },
   "outputs": [],
   "source": [
    "readr::write_tsv(s1_expr, \"../data/alberts2018elife_yeast/processed/alberts2018_expression_logtpm.tsv\")"
   ]
  },
  {
   "cell_type": "code",
   "execution_count": 33,
   "id": "e220e84f-3454-46be-ae26-83b1fab8075a",
   "metadata": {
    "execution": {
     "iopub.execute_input": "2024-11-04T14:24:56.875490Z",
     "iopub.status.busy": "2024-11-04T14:24:56.874680Z",
     "iopub.status.idle": "2024-11-04T14:24:56.900727Z",
     "shell.execute_reply": "2024-11-04T14:24:56.899534Z"
    }
   },
   "outputs": [],
   "source": [
    "s2_cov <- readxl::read_excel(\"../data/alberts2018elife_yeast/raw/elife-35471-data2.xlsx\")"
   ]
  },
  {
   "cell_type": "code",
   "execution_count": 34,
   "id": "af284105-f930-4311-a49d-da57f79d704a",
   "metadata": {
    "execution": {
     "iopub.execute_input": "2024-11-04T14:24:58.576643Z",
     "iopub.status.busy": "2024-11-04T14:24:58.575788Z",
     "iopub.status.idle": "2024-11-04T14:24:58.590881Z",
     "shell.execute_reply": "2024-11-04T14:24:58.589350Z"
    }
   },
   "outputs": [],
   "source": [
    "s2_cov <- dplyr::rename(s2_cov, segregant_id = segregant, od_covariate = OD_covariate)"
   ]
  },
  {
   "cell_type": "code",
   "execution_count": 35,
   "id": "fc21caa1-a7c1-4ed7-b323-8c49b85c2812",
   "metadata": {
    "execution": {
     "iopub.execute_input": "2024-11-04T14:24:58.969147Z",
     "iopub.status.busy": "2024-11-04T14:24:58.967962Z",
     "iopub.status.idle": "2024-11-04T14:24:59.046921Z",
     "shell.execute_reply": "2024-11-04T14:24:59.045855Z"
    }
   },
   "outputs": [],
   "source": [
    "readr::write_tsv(s2_cov, \"../data/alberts2018elife_yeast/processed/alberts2018_segregant_covariates.tsv\")"
   ]
  },
  {
   "cell_type": "code",
   "execution_count": 13,
   "id": "95383a11-a72f-4c4d-9206-1d7170edffed",
   "metadata": {
    "execution": {
     "iopub.execute_input": "2024-11-25T11:17:15.820893Z",
     "iopub.status.busy": "2024-11-25T11:17:15.818417Z",
     "iopub.status.idle": "2024-11-25T11:18:37.681087Z",
     "shell.execute_reply": "2024-11-25T11:18:37.679411Z"
    }
   },
   "outputs": [
    {
     "name": "stderr",
     "output_type": "stream",
     "text": [
      "\u001b[1m\u001b[22mNew names:\n",
      "\u001b[36m•\u001b[39m `` -> `...1`\n",
      "\u001b[1mRows: \u001b[22m\u001b[34m1012\u001b[39m \u001b[1mColumns: \u001b[22m\u001b[34m42053\u001b[39m\n",
      "\u001b[36m──\u001b[39m \u001b[1mColumn specification\u001b[22m \u001b[36m─────────────────────────────────────────────────────────────────────────────────────────────────────────────────────────────────────────────────────────────────────────────────────────\u001b[39m\n",
      "\u001b[1mDelimiter:\u001b[22m \"\\t\"\n",
      "\u001b[31mchr\u001b[39m     (1): ...1\n",
      "\u001b[32mdbl\u001b[39m (42052): chrI:33040_A/G, chrI:33048_A/C, chrI:33070_A/T, chrI:33077_G/A,...\n",
      "\n",
      "\u001b[36mℹ\u001b[39m Use `spec()` to retrieve the full column specification for this data.\n",
      "\u001b[36mℹ\u001b[39m Specify the column types or set `show_col_types = FALSE` to quiet this message.\n"
     ]
    }
   ],
   "source": [
    "# Added an extra tab to the beginning of the file\n",
    "s3_genotype <- readr::read_tsv(\"../data/alberts2018elife_yeast/raw/SI_Data_03_genotypes.txt\")"
   ]
  },
  {
   "cell_type": "code",
   "execution_count": 14,
   "id": "686f06ab-bda3-4714-94ab-d945d62c9d5e",
   "metadata": {
    "execution": {
     "iopub.execute_input": "2024-11-25T11:18:37.691747Z",
     "iopub.status.busy": "2024-11-25T11:18:37.688965Z",
     "iopub.status.idle": "2024-11-25T11:18:43.316546Z",
     "shell.execute_reply": "2024-11-25T11:18:43.313349Z"
    }
   },
   "outputs": [],
   "source": [
    "s3_genotype <- s3_genotype |>\n",
    "  dplyr::rename(segregant_id = `...1`) |>\n",
    "  tibble::column_to_rownames(\"segregant_id\") |>\n",
    "  t() |>\n",
    "  as.data.frame() |>\n",
    "  tibble::rownames_to_column(\"variant_id\") |>\n",
    "  dplyr::mutate(\n",
    "    chr = stringr::str_extract(variant_id, \"chr([IVX]+)\\\\:\", group = 1),\n",
    "    pos = as.numeric(stringr::str_extract(variant_id, \"\\\\:([0-9]+)\\\\_\", group = 1)),\n",
    "    ref = stringr::str_extract(variant_id, \"\\\\_([ATGC]+)/\", group = 1),\n",
    "    alt = stringr::str_extract(variant_id, \"/([ATGC]+)$\", group = 1),\n",
    "    .after = variant_id\n",
    "  ) |>\n",
    "  dplyr::mutate(variant_id = gsub(\"[:/]\", \"_\", variant_id))"
   ]
  },
  {
   "cell_type": "code",
   "execution_count": 15,
   "id": "e5dd2676-5336-4481-9f70-e678168907c9",
   "metadata": {
    "execution": {
     "iopub.execute_input": "2024-11-25T11:27:12.682419Z",
     "iopub.status.busy": "2024-11-25T11:27:12.679111Z",
     "iopub.status.idle": "2024-11-25T11:27:13.360439Z",
     "shell.execute_reply": "2024-11-25T11:27:13.356470Z"
    }
   },
   "outputs": [
    {
     "data": {
      "text/html": [
       "<table class=\"dataframe\">\n",
       "<caption>A data.frame: 6 × 1017</caption>\n",
       "<thead>\n",
       "\t<tr><th></th><th scope=col>variant_id</th><th scope=col>chr</th><th scope=col>pos</th><th scope=col>ref</th><th scope=col>alt</th><th scope=col>A01_01</th><th scope=col>A01_02</th><th scope=col>A01_03</th><th scope=col>A01_04</th><th scope=col>A01_05</th><th scope=col>⋯</th><th scope=col>A11_86</th><th scope=col>A11_87</th><th scope=col>A11_88</th><th scope=col>A11_89</th><th scope=col>A11_91</th><th scope=col>A11_92</th><th scope=col>A11_93</th><th scope=col>A11_94</th><th scope=col>A11_95</th><th scope=col>A11_96</th></tr>\n",
       "\t<tr><th></th><th scope=col>&lt;chr&gt;</th><th scope=col>&lt;chr&gt;</th><th scope=col>&lt;dbl&gt;</th><th scope=col>&lt;chr&gt;</th><th scope=col>&lt;chr&gt;</th><th scope=col>&lt;dbl&gt;</th><th scope=col>&lt;dbl&gt;</th><th scope=col>&lt;dbl&gt;</th><th scope=col>&lt;dbl&gt;</th><th scope=col>&lt;dbl&gt;</th><th scope=col>⋯</th><th scope=col>&lt;dbl&gt;</th><th scope=col>&lt;dbl&gt;</th><th scope=col>&lt;dbl&gt;</th><th scope=col>&lt;dbl&gt;</th><th scope=col>&lt;dbl&gt;</th><th scope=col>&lt;dbl&gt;</th><th scope=col>&lt;dbl&gt;</th><th scope=col>&lt;dbl&gt;</th><th scope=col>&lt;dbl&gt;</th><th scope=col>&lt;dbl&gt;</th></tr>\n",
       "</thead>\n",
       "<tbody>\n",
       "\t<tr><th scope=row>1</th><td>chrI_33040_A_G</td><td>I</td><td>33040</td><td>A</td><td>G</td><td>1</td><td>-1</td><td>1</td><td>1</td><td>-1</td><td>⋯</td><td>1</td><td>1</td><td>1</td><td>1</td><td>1</td><td>1</td><td>-1</td><td>-1</td><td>1</td><td>-1</td></tr>\n",
       "\t<tr><th scope=row>2</th><td>chrI_33048_A_C</td><td>I</td><td>33048</td><td>A</td><td>C</td><td>1</td><td>-1</td><td>1</td><td>1</td><td>-1</td><td>⋯</td><td>1</td><td>1</td><td>1</td><td>1</td><td>1</td><td>1</td><td>-1</td><td>-1</td><td>1</td><td>-1</td></tr>\n",
       "\t<tr><th scope=row>3</th><td>chrI_33070_A_T</td><td>I</td><td>33070</td><td>A</td><td>T</td><td>1</td><td>-1</td><td>1</td><td>1</td><td>-1</td><td>⋯</td><td>1</td><td>1</td><td>1</td><td>1</td><td>1</td><td>1</td><td>-1</td><td>-1</td><td>1</td><td>-1</td></tr>\n",
       "\t<tr><th scope=row>4</th><td>chrI_33077_G_A</td><td>I</td><td>33077</td><td>G</td><td>A</td><td>1</td><td>-1</td><td>1</td><td>1</td><td>-1</td><td>⋯</td><td>1</td><td>1</td><td>1</td><td>1</td><td>1</td><td>1</td><td>-1</td><td>-1</td><td>1</td><td>-1</td></tr>\n",
       "\t<tr><th scope=row>5</th><td>chrI_33147_G_T</td><td>I</td><td>33147</td><td>G</td><td>T</td><td>1</td><td>-1</td><td>1</td><td>1</td><td>-1</td><td>⋯</td><td>1</td><td>1</td><td>1</td><td>1</td><td>1</td><td>1</td><td>-1</td><td>-1</td><td>1</td><td>-1</td></tr>\n",
       "\t<tr><th scope=row>6</th><td>chrI_33152_T_C</td><td>I</td><td>33152</td><td>T</td><td>C</td><td>1</td><td>-1</td><td>1</td><td>1</td><td>-1</td><td>⋯</td><td>1</td><td>1</td><td>1</td><td>1</td><td>1</td><td>1</td><td>-1</td><td>-1</td><td>1</td><td>-1</td></tr>\n",
       "</tbody>\n",
       "</table>\n"
      ],
      "text/latex": [
       "A data.frame: 6 × 1017\n",
       "\\begin{tabular}{r|lllllllllllllllllllll}\n",
       "  & variant\\_id & chr & pos & ref & alt & A01\\_01 & A01\\_02 & A01\\_03 & A01\\_04 & A01\\_05 & ⋯ & A11\\_86 & A11\\_87 & A11\\_88 & A11\\_89 & A11\\_91 & A11\\_92 & A11\\_93 & A11\\_94 & A11\\_95 & A11\\_96\\\\\n",
       "  & <chr> & <chr> & <dbl> & <chr> & <chr> & <dbl> & <dbl> & <dbl> & <dbl> & <dbl> & ⋯ & <dbl> & <dbl> & <dbl> & <dbl> & <dbl> & <dbl> & <dbl> & <dbl> & <dbl> & <dbl>\\\\\n",
       "\\hline\n",
       "\t1 & chrI\\_33040\\_A\\_G & I & 33040 & A & G & 1 & -1 & 1 & 1 & -1 & ⋯ & 1 & 1 & 1 & 1 & 1 & 1 & -1 & -1 & 1 & -1\\\\\n",
       "\t2 & chrI\\_33048\\_A\\_C & I & 33048 & A & C & 1 & -1 & 1 & 1 & -1 & ⋯ & 1 & 1 & 1 & 1 & 1 & 1 & -1 & -1 & 1 & -1\\\\\n",
       "\t3 & chrI\\_33070\\_A\\_T & I & 33070 & A & T & 1 & -1 & 1 & 1 & -1 & ⋯ & 1 & 1 & 1 & 1 & 1 & 1 & -1 & -1 & 1 & -1\\\\\n",
       "\t4 & chrI\\_33077\\_G\\_A & I & 33077 & G & A & 1 & -1 & 1 & 1 & -1 & ⋯ & 1 & 1 & 1 & 1 & 1 & 1 & -1 & -1 & 1 & -1\\\\\n",
       "\t5 & chrI\\_33147\\_G\\_T & I & 33147 & G & T & 1 & -1 & 1 & 1 & -1 & ⋯ & 1 & 1 & 1 & 1 & 1 & 1 & -1 & -1 & 1 & -1\\\\\n",
       "\t6 & chrI\\_33152\\_T\\_C & I & 33152 & T & C & 1 & -1 & 1 & 1 & -1 & ⋯ & 1 & 1 & 1 & 1 & 1 & 1 & -1 & -1 & 1 & -1\\\\\n",
       "\\end{tabular}\n"
      ],
      "text/markdown": [
       "\n",
       "A data.frame: 6 × 1017\n",
       "\n",
       "| <!--/--> | variant_id &lt;chr&gt; | chr &lt;chr&gt; | pos &lt;dbl&gt; | ref &lt;chr&gt; | alt &lt;chr&gt; | A01_01 &lt;dbl&gt; | A01_02 &lt;dbl&gt; | A01_03 &lt;dbl&gt; | A01_04 &lt;dbl&gt; | A01_05 &lt;dbl&gt; | ⋯ ⋯ | A11_86 &lt;dbl&gt; | A11_87 &lt;dbl&gt; | A11_88 &lt;dbl&gt; | A11_89 &lt;dbl&gt; | A11_91 &lt;dbl&gt; | A11_92 &lt;dbl&gt; | A11_93 &lt;dbl&gt; | A11_94 &lt;dbl&gt; | A11_95 &lt;dbl&gt; | A11_96 &lt;dbl&gt; |\n",
       "|---|---|---|---|---|---|---|---|---|---|---|---|---|---|---|---|---|---|---|---|---|---|\n",
       "| 1 | chrI_33040_A_G | I | 33040 | A | G | 1 | -1 | 1 | 1 | -1 | ⋯ | 1 | 1 | 1 | 1 | 1 | 1 | -1 | -1 | 1 | -1 |\n",
       "| 2 | chrI_33048_A_C | I | 33048 | A | C | 1 | -1 | 1 | 1 | -1 | ⋯ | 1 | 1 | 1 | 1 | 1 | 1 | -1 | -1 | 1 | -1 |\n",
       "| 3 | chrI_33070_A_T | I | 33070 | A | T | 1 | -1 | 1 | 1 | -1 | ⋯ | 1 | 1 | 1 | 1 | 1 | 1 | -1 | -1 | 1 | -1 |\n",
       "| 4 | chrI_33077_G_A | I | 33077 | G | A | 1 | -1 | 1 | 1 | -1 | ⋯ | 1 | 1 | 1 | 1 | 1 | 1 | -1 | -1 | 1 | -1 |\n",
       "| 5 | chrI_33147_G_T | I | 33147 | G | T | 1 | -1 | 1 | 1 | -1 | ⋯ | 1 | 1 | 1 | 1 | 1 | 1 | -1 | -1 | 1 | -1 |\n",
       "| 6 | chrI_33152_T_C | I | 33152 | T | C | 1 | -1 | 1 | 1 | -1 | ⋯ | 1 | 1 | 1 | 1 | 1 | 1 | -1 | -1 | 1 | -1 |\n",
       "\n"
      ],
      "text/plain": [
       "  variant_id     chr pos   ref alt A01_01 A01_02 A01_03 A01_04 A01_05 ⋯ A11_86\n",
       "1 chrI_33040_A_G I   33040 A   G   1      -1     1      1      -1     ⋯ 1     \n",
       "2 chrI_33048_A_C I   33048 A   C   1      -1     1      1      -1     ⋯ 1     \n",
       "3 chrI_33070_A_T I   33070 A   T   1      -1     1      1      -1     ⋯ 1     \n",
       "4 chrI_33077_G_A I   33077 G   A   1      -1     1      1      -1     ⋯ 1     \n",
       "5 chrI_33147_G_T I   33147 G   T   1      -1     1      1      -1     ⋯ 1     \n",
       "6 chrI_33152_T_C I   33152 T   C   1      -1     1      1      -1     ⋯ 1     \n",
       "  A11_87 A11_88 A11_89 A11_91 A11_92 A11_93 A11_94 A11_95 A11_96\n",
       "1 1      1      1      1      1      -1     -1     1      -1    \n",
       "2 1      1      1      1      1      -1     -1     1      -1    \n",
       "3 1      1      1      1      1      -1     -1     1      -1    \n",
       "4 1      1      1      1      1      -1     -1     1      -1    \n",
       "5 1      1      1      1      1      -1     -1     1      -1    \n",
       "6 1      1      1      1      1      -1     -1     1      -1    "
      ]
     },
     "metadata": {},
     "output_type": "display_data"
    }
   ],
   "source": [
    "head(s3_genotype)"
   ]
  },
  {
   "cell_type": "code",
   "execution_count": 16,
   "id": "32ccf48c-3b61-420a-a0f9-cc450df7aeb6",
   "metadata": {
    "execution": {
     "iopub.execute_input": "2024-11-25T11:27:19.518110Z",
     "iopub.status.busy": "2024-11-25T11:27:19.516762Z",
     "iopub.status.idle": "2024-11-25T11:27:21.254048Z",
     "shell.execute_reply": "2024-11-25T11:27:21.252409Z"
    }
   },
   "outputs": [],
   "source": [
    "readr::write_tsv(s3_genotype, \"../data/alberts2018elife_yeast/processed/alberts2018_genotypes.tsv\")"
   ]
  },
  {
   "cell_type": "code",
   "execution_count": 12,
   "id": "b728e9e6-ec82-42db-887e-ca16964bab26",
   "metadata": {
    "execution": {
     "iopub.execute_input": "2024-11-05T12:25:39.550652Z",
     "iopub.status.busy": "2024-11-05T12:25:39.547880Z",
     "iopub.status.idle": "2024-11-05T12:25:39.739984Z",
     "shell.execute_reply": "2024-11-05T12:25:39.738594Z"
    }
   },
   "outputs": [],
   "source": [
    "s6_genes <- readxl::read_excel(\"../data/alberts2018elife_yeast/raw/elife-35471-data6.xlsx\")"
   ]
  },
  {
   "cell_type": "code",
   "execution_count": 13,
   "id": "a158e5dc-e158-48ac-9a58-076515acf4d4",
   "metadata": {
    "execution": {
     "iopub.execute_input": "2024-11-05T12:25:39.942147Z",
     "iopub.status.busy": "2024-11-05T12:25:39.940458Z",
     "iopub.status.idle": "2024-11-05T12:25:41.071886Z",
     "shell.execute_reply": "2024-11-05T12:25:41.068841Z"
    }
   },
   "outputs": [],
   "source": [
    "bm_scerevisiae <- biomaRt::getBM(\n",
    "  attributes = c(\"ensembl_gene_id\", \"external_gene_name\", \"chromosome_name\", \"strand\", \"transcription_start_site\"), \n",
    "  mart = biomaRt::useDataset(\n",
    "    dataset = \"scerevisiae_eg_gene\", \n",
    "    mart = useMart(biomart = \"fungi_mart\", host = \"https://fungi.ensembl.org\")\n",
    "  )\n",
    ")"
   ]
  },
  {
   "cell_type": "code",
   "execution_count": 14,
   "id": "d4fee915-ab81-4d9b-a26c-9435b7cda979",
   "metadata": {
    "execution": {
     "iopub.execute_input": "2024-11-05T12:25:41.105705Z",
     "iopub.status.busy": "2024-11-05T12:25:41.102483Z",
     "iopub.status.idle": "2024-11-05T12:25:41.153424Z",
     "shell.execute_reply": "2024-11-05T12:25:41.150882Z"
    }
   },
   "outputs": [],
   "source": [
    "s6_genes <- s6_genes |>\n",
    "  dplyr::select(gene_id = gene, essential, is_tf = isTF) |>\n",
    "  dplyr::inner_join(bm_scerevisiae, dplyr::join_by(gene_id == ensembl_gene_id)) |>\n",
    "  dplyr::relocate(c(essential, is_tf), .after = transcription_start_site)"
   ]
  },
  {
   "cell_type": "code",
   "execution_count": 16,
   "id": "f2f2f65c-e51f-4b22-8446-af6560b7eed1",
   "metadata": {
    "execution": {
     "iopub.execute_input": "2024-11-05T12:26:12.858824Z",
     "iopub.status.busy": "2024-11-05T12:26:12.856136Z",
     "iopub.status.idle": "2024-11-05T12:26:13.755768Z",
     "shell.execute_reply": "2024-11-05T12:26:13.753072Z"
    }
   },
   "outputs": [],
   "source": [
    "readr::write_tsv(s6_genes, \"../data/alberts2018elife_yeast/processed/alberts2018_genes.tsv\")"
   ]
  },
  {
   "cell_type": "code",
   "execution_count": null,
   "id": "e29c962f-fd6a-49c6-98ea-b5ee40c331d0",
   "metadata": {},
   "outputs": [],
   "source": []
  }
 ],
 "metadata": {
  "kernelspec": {
   "display_name": "R 4.4.1",
   "language": "R",
   "name": "r441"
  },
  "language_info": {
   "codemirror_mode": "r",
   "file_extension": ".r",
   "mimetype": "text/x-r-source",
   "name": "R",
   "pygments_lexer": "r",
   "version": "4.4.1"
  }
 },
 "nbformat": 4,
 "nbformat_minor": 5
}
