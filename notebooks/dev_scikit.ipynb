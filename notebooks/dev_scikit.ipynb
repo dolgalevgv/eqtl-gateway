{
 "cells": [
  {
   "cell_type": "code",
   "execution_count": 59,
   "id": "b6921430-711e-4323-89ef-de51ddddb07e",
   "metadata": {
    "execution": {
     "iopub.execute_input": "2025-01-16T16:37:30.218359Z",
     "iopub.status.busy": "2025-01-16T16:37:30.218359Z",
     "iopub.status.idle": "2025-01-16T16:37:30.224893Z",
     "shell.execute_reply": "2025-01-16T16:37:30.224893Z",
     "shell.execute_reply.started": "2025-01-16T16:37:30.218359Z"
    }
   },
   "outputs": [],
   "source": [
    "import matplotlib.pyplot as plt\n",
    "import numpy as np\n",
    "import pandas as pd\n",
    "import seaborn as sns\n",
    "from sklearn.compose import TransformedTargetRegressor\n",
    "from sklearn.covariance import GraphicalLassoCV\n",
    "from sklearn.linear_model import ElasticNet\n",
    "from sklearn.model_selection import cross_validate, GridSearchCV, KFold, train_test_split\n",
    "from sklearn.pipeline import Pipeline\n",
    "from sklearn.preprocessing import QuantileTransformer"
   ]
  },
  {
   "cell_type": "code",
   "execution_count": 9,
   "id": "fa88dc68-1e45-4055-bf23-60dd75bd0416",
   "metadata": {
    "execution": {
     "iopub.execute_input": "2025-01-16T16:12:55.058669Z",
     "iopub.status.busy": "2025-01-16T16:12:55.058669Z",
     "iopub.status.idle": "2025-01-16T16:12:55.749010Z",
     "shell.execute_reply": "2025-01-16T16:12:55.749010Z",
     "shell.execute_reply.started": "2025-01-16T16:12:55.058669Z"
    }
   },
   "outputs": [],
   "source": [
    "expr = pd.read_csv('../data/albert2018/processed/albert2018_expression_logtpm.tsv', sep='\\t', index_col=0)"
   ]
  },
  {
   "cell_type": "code",
   "execution_count": 10,
   "id": "efa6314d-aa65-4816-a18b-3b8eda375819",
   "metadata": {
    "execution": {
     "iopub.execute_input": "2025-01-16T16:12:55.749010Z",
     "iopub.status.busy": "2025-01-16T16:12:55.749010Z",
     "iopub.status.idle": "2025-01-16T16:12:55.754570Z",
     "shell.execute_reply": "2025-01-16T16:12:55.754570Z",
     "shell.execute_reply.started": "2025-01-16T16:12:55.749010Z"
    }
   },
   "outputs": [],
   "source": [
    "expr = expr.T"
   ]
  },
  {
   "cell_type": "code",
   "execution_count": 11,
   "id": "95c4028c-893c-483e-906d-c05f7f81524e",
   "metadata": {
    "execution": {
     "iopub.execute_input": "2025-01-16T16:12:55.756591Z",
     "iopub.status.busy": "2025-01-16T16:12:55.754570Z",
     "iopub.status.idle": "2025-01-16T16:12:55.761721Z",
     "shell.execute_reply": "2025-01-16T16:12:55.761721Z",
     "shell.execute_reply.started": "2025-01-16T16:12:55.756591Z"
    }
   },
   "outputs": [],
   "source": [
    "cov = pd.read_csv('../data/albert2018/processed/albert2018_segregant_covariates.tsv', sep='\\t', index_col=0)"
   ]
  },
  {
   "cell_type": "code",
   "execution_count": 12,
   "id": "17fdc93e-d896-4dca-b9e6-37841fb90c4a",
   "metadata": {
    "execution": {
     "iopub.execute_input": "2025-01-16T16:12:55.761721Z",
     "iopub.status.busy": "2025-01-16T16:12:55.761721Z",
     "iopub.status.idle": "2025-01-16T16:12:57.681853Z",
     "shell.execute_reply": "2025-01-16T16:12:57.681853Z",
     "shell.execute_reply.started": "2025-01-16T16:12:55.761721Z"
    }
   },
   "outputs": [],
   "source": [
    "gen = pd.read_csv('../data/albert2018/processed/albert2018_genotypes.tsv', sep='\\t', index_col=0)"
   ]
  },
  {
   "cell_type": "code",
   "execution_count": 13,
   "id": "ccfbde72-e3f6-4bfe-8a47-1f4a2e383ada",
   "metadata": {
    "execution": {
     "iopub.execute_input": "2025-01-16T16:12:57.683871Z",
     "iopub.status.busy": "2025-01-16T16:12:57.681853Z",
     "iopub.status.idle": "2025-01-16T16:13:02.576408Z",
     "shell.execute_reply": "2025-01-16T16:13:02.576408Z",
     "shell.execute_reply.started": "2025-01-16T16:12:57.683871Z"
    }
   },
   "outputs": [],
   "source": [
    "gen_meta = gen.loc[:, ['chr', 'pos']]\n",
    "\n",
    "gen = (\n",
    "    gen\n",
    "    .drop(columns=['chr', 'pos', 'ref', 'alt'])\n",
    "    .transpose()\n",
    "    .apply(lambda x: (x + 1) / 2)\n",
    "    .astype(np.int8)\n",
    ")"
   ]
  },
  {
   "cell_type": "code",
   "execution_count": 14,
   "id": "4f82bd3d-cc7d-4247-a28a-862cae346be7",
   "metadata": {
    "execution": {
     "iopub.execute_input": "2025-01-16T16:13:02.576408Z",
     "iopub.status.busy": "2025-01-16T16:13:02.576408Z",
     "iopub.status.idle": "2025-01-16T16:13:02.596621Z",
     "shell.execute_reply": "2025-01-16T16:13:02.596621Z",
     "shell.execute_reply.started": "2025-01-16T16:13:02.576408Z"
    }
   },
   "outputs": [],
   "source": [
    "annot = pd.read_csv('../data/albert2018/processed/albert2018_genes.tsv', sep='\\t', index_col=0)"
   ]
  },
  {
   "cell_type": "code",
   "execution_count": 15,
   "id": "502316a8-c8d1-443c-a686-3d86d3c5ed7a",
   "metadata": {
    "execution": {
     "iopub.execute_input": "2025-01-16T16:13:02.596621Z",
     "iopub.status.busy": "2025-01-16T16:13:02.596621Z",
     "iopub.status.idle": "2025-01-16T16:13:02.600135Z",
     "shell.execute_reply": "2025-01-16T16:13:02.600135Z",
     "shell.execute_reply.started": "2025-01-16T16:13:02.596621Z"
    }
   },
   "outputs": [],
   "source": [
    "cis_window = 20_000"
   ]
  },
  {
   "cell_type": "code",
   "execution_count": 16,
   "id": "48bb0579-e9b4-4e7f-b8c3-f11db8a5bee7",
   "metadata": {
    "execution": {
     "iopub.execute_input": "2025-01-16T16:13:03.495671Z",
     "iopub.status.busy": "2025-01-16T16:13:03.495671Z",
     "iopub.status.idle": "2025-01-16T16:13:03.527435Z",
     "shell.execute_reply": "2025-01-16T16:13:03.527435Z",
     "shell.execute_reply.started": "2025-01-16T16:13:03.495671Z"
    }
   },
   "outputs": [],
   "source": [
    "expr = expr.loc[:, expr.columns.isin(annot.index)]"
   ]
  },
  {
   "cell_type": "code",
   "execution_count": 17,
   "id": "1638f5dd-e862-492e-aa6e-6cf1fdf9daa1",
   "metadata": {
    "execution": {
     "iopub.execute_input": "2025-01-16T16:13:20.862408Z",
     "iopub.status.busy": "2025-01-16T16:13:20.846775Z",
     "iopub.status.idle": "2025-01-16T16:13:32.123574Z",
     "shell.execute_reply": "2025-01-16T16:13:32.123574Z",
     "shell.execute_reply.started": "2025-01-16T16:13:20.862408Z"
    }
   },
   "outputs": [],
   "source": [
    "gene_Xy = dict()\n",
    "\n",
    "for gene in expr.columns:\n",
    "    gene_y = expr[gene]\n",
    "    \n",
    "    gene_chr, gene_tss = annot.loc[gene, ['chromosome_name', 'transcription_start_site']]\n",
    "    \n",
    "    gene_X = gen.loc[\n",
    "        :, (gen_meta['chr'] == gene_chr) & (gen_meta['pos'].between(gene_tss - cis_window, gene_tss + cis_window))\n",
    "    ]\n",
    "\n",
    "    gene_Xy[gene] = [gene_X, gene_y]"
   ]
  },
  {
   "cell_type": "code",
   "execution_count": 46,
   "id": "819f8525-2c1d-418f-b8dd-7708fae9db5b",
   "metadata": {
    "execution": {
     "iopub.execute_input": "2025-01-16T16:29:15.929496Z",
     "iopub.status.busy": "2025-01-16T16:29:15.929496Z",
     "iopub.status.idle": "2025-01-16T16:29:15.942466Z",
     "shell.execute_reply": "2025-01-16T16:29:15.942466Z",
     "shell.execute_reply.started": "2025-01-16T16:29:15.929496Z"
    }
   },
   "outputs": [],
   "source": [
    "hparam_grid = {\n",
    "    'ttr__regressor__alpha': [0.001, 0.01, 0.1, 1, 10, 100],\n",
    "    'ttr__regressor__l1_ratio': [0.1, 0.3, 0.5, 0.7, 0.9, 1]\n",
    "}"
   ]
  },
  {
   "cell_type": "code",
   "execution_count": 52,
   "id": "f64fab43-74c2-400a-8273-8086cc7572aa",
   "metadata": {
    "execution": {
     "iopub.execute_input": "2025-01-16T16:31:14.938483Z",
     "iopub.status.busy": "2025-01-16T16:31:14.938483Z",
     "iopub.status.idle": "2025-01-16T16:31:14.942826Z",
     "shell.execute_reply": "2025-01-16T16:31:14.942826Z",
     "shell.execute_reply.started": "2025-01-16T16:31:14.938483Z"
    }
   },
   "outputs": [],
   "source": [
    "enet = Pipeline([(\n",
    "    'ttr', TransformedTargetRegressor(\n",
    "        regressor=ElasticNet(tol=1e-4), \n",
    "        transformer=QuantileTransformer(n_quantiles=100, output_distribution='normal')\n",
    "    )\n",
    ")])"
   ]
  },
  {
   "cell_type": "code",
   "execution_count": 53,
   "id": "6e41403d-49f6-4282-973d-54f3f67daa71",
   "metadata": {
    "execution": {
     "iopub.execute_input": "2025-01-16T16:31:15.508932Z",
     "iopub.status.busy": "2025-01-16T16:31:15.508932Z",
     "iopub.status.idle": "2025-01-16T16:31:15.526429Z",
     "shell.execute_reply": "2025-01-16T16:31:15.526429Z",
     "shell.execute_reply.started": "2025-01-16T16:31:15.508932Z"
    }
   },
   "outputs": [],
   "source": [
    "inner_cv = KFold(n_splits=5, shuffle=True, random_state=42)\n",
    "outer_cv = KFold(n_splits=5, shuffle=True, random_state=51)"
   ]
  },
  {
   "cell_type": "code",
   "execution_count": 54,
   "id": "25cdd58c-91a2-4fa8-a8e7-ad055c20956c",
   "metadata": {
    "execution": {
     "iopub.execute_input": "2025-01-16T16:31:15.747182Z",
     "iopub.status.busy": "2025-01-16T16:31:15.747182Z",
     "iopub.status.idle": "2025-01-16T16:31:15.765169Z",
     "shell.execute_reply": "2025-01-16T16:31:15.765169Z",
     "shell.execute_reply.started": "2025-01-16T16:31:15.747182Z"
    }
   },
   "outputs": [],
   "source": [
    "clf = GridSearchCV(estimator=enet, param_grid=hparam_grid, cv=inner_cv)"
   ]
  },
  {
   "cell_type": "code",
   "execution_count": 62,
   "id": "71f4d591-c062-42ef-a13d-417ff62793a2",
   "metadata": {
    "execution": {
     "iopub.execute_input": "2025-01-16T16:40:05.593071Z",
     "iopub.status.busy": "2025-01-16T16:40:05.593071Z",
     "iopub.status.idle": "2025-01-16T16:40:10.158902Z",
     "shell.execute_reply": "2025-01-16T16:40:10.158902Z",
     "shell.execute_reply.started": "2025-01-16T16:40:05.593071Z"
    }
   },
   "outputs": [],
   "source": [
    "nested_score = cross_validate(clf, X=gene_Xy['YAL062W'][0], y=gene_Xy['YAL062W'][1], cv=outer_cv, n_jobs=-1, return_estimator=True)"
   ]
  },
  {
   "cell_type": "code",
   "execution_count": 79,
   "id": "413359a1-284c-4e8f-ab33-c58c4e0c1910",
   "metadata": {
    "execution": {
     "iopub.execute_input": "2025-01-16T16:47:07.159579Z",
     "iopub.status.busy": "2025-01-16T16:47:07.159579Z",
     "iopub.status.idle": "2025-01-16T16:47:07.171527Z",
     "shell.execute_reply": "2025-01-16T16:47:07.171527Z",
     "shell.execute_reply.started": "2025-01-16T16:47:07.159579Z"
    }
   },
   "outputs": [
    {
     "data": {
      "text/plain": [
       "2"
      ]
     },
     "execution_count": 79,
     "metadata": {},
     "output_type": "execute_result"
    }
   ],
   "source": [
    "nested_score['test_score'].argmax()"
   ]
  },
  {
   "cell_type": "code",
   "execution_count": 80,
   "id": "bad37464-379b-41f1-98aa-16381c0c1992",
   "metadata": {
    "execution": {
     "iopub.execute_input": "2025-01-16T16:47:21.756690Z",
     "iopub.status.busy": "2025-01-16T16:47:21.756690Z",
     "iopub.status.idle": "2025-01-16T16:47:21.766259Z",
     "shell.execute_reply": "2025-01-16T16:47:21.766259Z",
     "shell.execute_reply.started": "2025-01-16T16:47:21.756690Z"
    }
   },
   "outputs": [
    {
     "data": {
      "text/plain": [
       "{'ttr__regressor__alpha': 0.1, 'ttr__regressor__l1_ratio': 0.3}"
      ]
     },
     "execution_count": 80,
     "metadata": {},
     "output_type": "execute_result"
    }
   ],
   "source": [
    "nested_score['estimator'][nested_score['test_score'].argmax()].best_params_"
   ]
  },
  {
   "cell_type": "code",
   "execution_count": 102,
   "id": "3bec7bae-f0cd-49b5-b914-46639dfe74ee",
   "metadata": {
    "execution": {
     "iopub.execute_input": "2025-01-16T11:34:16.894928Z",
     "iopub.status.busy": "2025-01-16T11:34:16.894928Z",
     "iopub.status.idle": "2025-01-16T11:34:16.913206Z",
     "shell.execute_reply": "2025-01-16T11:34:16.913206Z",
     "shell.execute_reply.started": "2025-01-16T11:34:16.894928Z"
    }
   },
   "outputs": [],
   "source": [
    "genet = make_pipeline(\n",
    "    TransformedTargetRegressor(\n",
    "        regressor=ElasticNetCV(\n",
    "            l1_ratio=[.1, .5, .7, .9, .95], \n",
    "            tol=1e-2, \n",
    "            cv=ShuffleSplit(n_splits=5, random_state=42)\n",
    "        ),\n",
    "        transformer=QuantileTransformer()\n",
    "    )\n",
    ")"
   ]
  },
  {
   "cell_type": "code",
   "execution_count": 142,
   "id": "72ecd8dd-da5a-4f4c-8a6a-463d21ecfcfb",
   "metadata": {
    "execution": {
     "iopub.execute_input": "2025-01-16T13:34:01.155445Z",
     "iopub.status.busy": "2025-01-16T13:34:01.155445Z",
     "iopub.status.idle": "2025-01-16T13:34:01.163253Z",
     "shell.execute_reply": "2025-01-16T13:34:01.163253Z",
     "shell.execute_reply.started": "2025-01-16T13:34:01.155445Z"
    }
   },
   "outputs": [],
   "source": [
    "elastic_net_cv = gene_models['YAL061W'].named_steps['transformedtargetregressor'].regressor_"
   ]
  },
  {
   "cell_type": "code",
   "execution_count": 143,
   "id": "3f134f64-191f-4fcb-ba39-14b091d5296a",
   "metadata": {
    "execution": {
     "iopub.execute_input": "2025-01-16T13:34:01.433773Z",
     "iopub.status.busy": "2025-01-16T13:34:01.433773Z",
     "iopub.status.idle": "2025-01-16T13:34:01.450751Z",
     "shell.execute_reply": "2025-01-16T13:34:01.450751Z",
     "shell.execute_reply.started": "2025-01-16T13:34:01.433773Z"
    }
   },
   "outputs": [
    {
     "ename": "ValueError",
     "evalue": "The truth value of an array with more than one element is ambiguous. Use a.any() or a.all()",
     "output_type": "error",
     "traceback": [
      "\u001b[1;31m---------------------------------------------------------------------------\u001b[0m",
      "\u001b[1;31mValueError\u001b[0m                                Traceback (most recent call last)",
      "Cell \u001b[1;32mIn[143], line 1\u001b[0m\n\u001b[1;32m----> 1\u001b[0m \u001b[38;5;28;43mlist\u001b[39;49m\u001b[43m(\u001b[49m\u001b[43melastic_net_cv\u001b[49m\u001b[38;5;241;43m.\u001b[39;49m\u001b[43malphas_\u001b[49m\u001b[43m)\u001b[49m\u001b[38;5;241;43m.\u001b[39;49m\u001b[43mindex\u001b[49m\u001b[43m(\u001b[49m\u001b[43melastic_net_cv\u001b[49m\u001b[38;5;241;43m.\u001b[39;49m\u001b[43malpha_\u001b[49m\u001b[43m)\u001b[49m\n",
      "\u001b[1;31mValueError\u001b[0m: The truth value of an array with more than one element is ambiguous. Use a.any() or a.all()"
     ]
    }
   ],
   "source": [
    "list(elastic_net_cv.alphas_).index(elastic_net_cv.alpha_)"
   ]
  },
  {
   "cell_type": "code",
   "execution_count": 126,
   "id": "4c7b1da6-7e9d-40af-8cbb-5968c8187d43",
   "metadata": {
    "execution": {
     "iopub.execute_input": "2025-01-16T13:26:47.784275Z",
     "iopub.status.busy": "2025-01-16T13:26:47.784275Z",
     "iopub.status.idle": "2025-01-16T13:26:47.805426Z",
     "shell.execute_reply": "2025-01-16T13:26:47.805426Z",
     "shell.execute_reply.started": "2025-01-16T13:26:47.784275Z"
    }
   },
   "outputs": [
    {
     "ename": "ValueError",
     "evalue": "The truth value of an array with more than one element is ambiguous. Use a.any() or a.all()",
     "output_type": "error",
     "traceback": [
      "\u001b[1;31m---------------------------------------------------------------------------\u001b[0m",
      "\u001b[1;31mValueError\u001b[0m                                Traceback (most recent call last)",
      "Cell \u001b[1;32mIn[126], line 5\u001b[0m\n\u001b[0;32m      2\u001b[0m mse_path \u001b[38;5;241m=\u001b[39m elastic_net_cv\u001b[38;5;241m.\u001b[39mmse_path_  \u001b[38;5;66;03m# Shape: (n_alphas, n_folds)\u001b[39;00m\n\u001b[0;32m      4\u001b[0m \u001b[38;5;66;03m# Get the optimal alpha index\u001b[39;00m\n\u001b[1;32m----> 5\u001b[0m optimal_alpha_index \u001b[38;5;241m=\u001b[39m \u001b[38;5;28;43mlist\u001b[39;49m\u001b[43m(\u001b[49m\u001b[43melastic_net_cv\u001b[49m\u001b[38;5;241;43m.\u001b[39;49m\u001b[43malphas_\u001b[49m\u001b[43m)\u001b[49m\u001b[38;5;241;43m.\u001b[39;49m\u001b[43mindex\u001b[49m\u001b[43m(\u001b[49m\u001b[43melastic_net_cv\u001b[49m\u001b[38;5;241;43m.\u001b[39;49m\u001b[43malpha_\u001b[49m\u001b[43m)\u001b[49m\n\u001b[0;32m      7\u001b[0m \u001b[38;5;66;03m# Mean squared error for the optimal alpha across folds\u001b[39;00m\n\u001b[0;32m      8\u001b[0m mse_per_fold \u001b[38;5;241m=\u001b[39m mse_path[optimal_alpha_index]\n",
      "\u001b[1;31mValueError\u001b[0m: The truth value of an array with more than one element is ambiguous. Use a.any() or a.all()"
     ]
    }
   ],
   "source": [
    "# Get the mean squared errors for each fold and alpha\n",
    "mse_path = elastic_net_cv.mse_path_  # Shape: (n_alphas, n_folds)\n",
    "\n",
    "# Get the optimal alpha index\n",
    "optimal_alpha_index = list(elastic_net_cv.alphas_).index(elastic_net_cv.alpha_)\n",
    "\n",
    "# Mean squared error for the optimal alpha across folds\n",
    "mse_per_fold = mse_path[optimal_alpha_index]\n",
    "\n",
    "# Calculate R^2 for each fold\n",
    "fold_r2_scores = [1 - mse / np.var(y_train) for mse in mse_per_fold]\n",
    "print(\"R^2 Scores for Test Folds during Cross-Validation:\", fold_r2_scores)\n",
    "\n",
    "# Mean R^2 score across folds\n",
    "mean_r2_cv = np.mean(fold_r2_scores)\n",
    "print(\"Mean R^2 Score from Cross-Validation:\", mean_r2_cv)"
   ]
  },
  {
   "cell_type": "code",
   "execution_count": 116,
   "id": "29433983-9e7f-4618-96bd-6d20d1237324",
   "metadata": {
    "execution": {
     "iopub.execute_input": "2025-01-16T13:19:39.480562Z",
     "iopub.status.busy": "2025-01-16T13:19:39.480562Z",
     "iopub.status.idle": "2025-01-16T13:19:42.200143Z",
     "shell.execute_reply": "2025-01-16T13:19:42.200143Z",
     "shell.execute_reply.started": "2025-01-16T13:19:39.480562Z"
    }
   },
   "outputs": [
    {
     "data": {
      "text/plain": [
       "array([0.34214196, 0.40720485, 0.28155676, 0.36784505, 0.25818627])"
      ]
     },
     "execution_count": 116,
     "metadata": {},
     "output_type": "execute_result"
    }
   ],
   "source": [
    "cross_val_score(genet, gene_Xy['YAL062W'][0], gene_Xy['YAL062W'][1], cv=ShuffleSplit(n_splits=5, random_state=42), n_jobs=-1)"
   ]
  },
  {
   "cell_type": "code",
   "execution_count": null,
   "id": "f67ca305-e481-480f-9000-7fa9697665f7",
   "metadata": {},
   "outputs": [],
   "source": []
  }
 ],
 "metadata": {
  "kernelspec": {
   "display_name": "Python 3 (ipykernel)",
   "language": "python",
   "name": "python3"
  },
  "language_info": {
   "codemirror_mode": {
    "name": "ipython",
    "version": 3
   },
   "file_extension": ".py",
   "mimetype": "text/x-python",
   "name": "python",
   "nbconvert_exporter": "python",
   "pygments_lexer": "ipython3",
   "version": "3.11.7"
  }
 },
 "nbformat": 4,
 "nbformat_minor": 5
}
