{
 "cells": [
  {
   "cell_type": "code",
   "execution_count": 1,
   "id": "5fa754da-9dda-4c2f-ae9c-b58494b314af",
   "metadata": {
    "execution": {
     "iopub.execute_input": "2024-12-27T13:01:11.273705Z",
     "iopub.status.busy": "2024-12-27T13:01:11.272015Z",
     "iopub.status.idle": "2024-12-27T13:01:12.663415Z",
     "shell.execute_reply": "2024-12-27T13:01:12.662492Z"
    }
   },
   "outputs": [
    {
     "name": "stderr",
     "output_type": "stream",
     "text": [
      "Warning message:\n",
      "\"package 'caret' was built under R version 4.4.2\"\n"
     ]
    }
   ],
   "source": [
    "suppressPackageStartupMessages({\n",
    "  library(caret)\n",
    "  library(dplyr)\n",
    "  library(readr)\n",
    "  library(RNOmni)\n",
    "})"
   ]
  },
  {
   "cell_type": "code",
   "execution_count": 2,
   "id": "6ef3306f-b825-416d-a239-ea3d1b98d8b1",
   "metadata": {
    "execution": {
     "iopub.execute_input": "2024-12-27T13:01:12.716953Z",
     "iopub.status.busy": "2024-12-27T13:01:12.666743Z",
     "iopub.status.idle": "2024-12-27T13:01:17.250495Z",
     "shell.execute_reply": "2024-12-27T13:01:17.249520Z"
    }
   },
   "outputs": [
    {
     "name": "stderr",
     "output_type": "stream",
     "text": [
      "\u001b[1mRows: \u001b[22m\u001b[34m7109\u001b[39m \u001b[1mColumns: \u001b[22m\u001b[34m7\u001b[39m\n",
      "\u001b[36m──\u001b[39m \u001b[1mColumn specification\u001b[22m \u001b[36m────────────────────────────────────────────────────────────────────────────────────────────────\u001b[39m\n",
      "\u001b[1mDelimiter:\u001b[22m \"\\t\"\n",
      "\u001b[31mchr\u001b[39m (3): gene_id, external_gene_name, chromosome_name\n",
      "\u001b[32mdbl\u001b[39m (2): strand, transcription_start_site\n",
      "\u001b[33mlgl\u001b[39m (2): essential, is_tf\n",
      "\n",
      "\u001b[36mℹ\u001b[39m Use `spec()` to retrieve the full column specification for this data.\n",
      "\u001b[36mℹ\u001b[39m Specify the column types or set `show_col_types = FALSE` to quiet this message.\n",
      "\u001b[1mRows: \u001b[22m\u001b[34m5720\u001b[39m \u001b[1mColumns: \u001b[22m\u001b[34m1013\u001b[39m\n",
      "\u001b[36m──\u001b[39m \u001b[1mColumn specification\u001b[22m \u001b[36m────────────────────────────────────────────────────────────────────────────────────────────────\u001b[39m\n",
      "\u001b[1mDelimiter:\u001b[22m \"\\t\"\n",
      "\u001b[31mchr\u001b[39m    (1): gene_id\n",
      "\u001b[32mdbl\u001b[39m (1012): A01_01, A01_02, A01_03, A01_04, A01_05, A01_06, A01_07, A01_08, ...\n",
      "\n",
      "\u001b[36mℹ\u001b[39m Use `spec()` to retrieve the full column specification for this data.\n",
      "\u001b[36mℹ\u001b[39m Specify the column types or set `show_col_types = FALSE` to quiet this message.\n",
      "\u001b[1mRows: \u001b[22m\u001b[34m1012\u001b[39m \u001b[1mColumns: \u001b[22m\u001b[34m3\u001b[39m\n",
      "\u001b[36m──\u001b[39m \u001b[1mColumn specification\u001b[22m \u001b[36m────────────────────────────────────────────────────────────────────────────────────────────────\u001b[39m\n",
      "\u001b[1mDelimiter:\u001b[22m \"\\t\"\n",
      "\u001b[31mchr\u001b[39m (1): segregant_id\n",
      "\u001b[32mdbl\u001b[39m (2): batch, od_covariate\n",
      "\n",
      "\u001b[36mℹ\u001b[39m Use `spec()` to retrieve the full column specification for this data.\n",
      "\u001b[36mℹ\u001b[39m Specify the column types or set `show_col_types = FALSE` to quiet this message.\n",
      "\u001b[1mRows: \u001b[22m\u001b[34m42052\u001b[39m \u001b[1mColumns: \u001b[22m\u001b[34m1017\u001b[39m\n",
      "\u001b[36m──\u001b[39m \u001b[1mColumn specification\u001b[22m \u001b[36m────────────────────────────────────────────────────────────────────────────────────────────────\u001b[39m\n",
      "\u001b[1mDelimiter:\u001b[22m \"\\t\"\n",
      "\u001b[31mchr\u001b[39m    (4): variant_id, chr, ref, alt\n",
      "\u001b[32mdbl\u001b[39m (1013): pos, A01_01, A01_02, A01_03, A01_04, A01_05, A01_06, A01_07, A01...\n",
      "\n",
      "\u001b[36mℹ\u001b[39m Use `spec()` to retrieve the full column specification for this data.\n",
      "\u001b[36mℹ\u001b[39m Specify the column types or set `show_col_types = FALSE` to quiet this message.\n"
     ]
    }
   ],
   "source": [
    "annot <- readr::read_tsv(\"../data/albert2018/processed/albert2018_genes.tsv\")\n",
    "expr <- readr::read_tsv(\"../data/albert2018/processed/albert2018_expression_logtpm.tsv\")\n",
    "cov <- readr::read_tsv(\"../data/albert2018/processed/albert2018_segregant_covariates.tsv\")\n",
    "gen <- readr::read_tsv(\"../data/albert2018/processed/albert2018_genotypes.tsv\")"
   ]
  },
  {
   "cell_type": "code",
   "execution_count": 4,
   "id": "070ec5b0-7741-48d4-a74b-6fcc682a17d9",
   "metadata": {
    "execution": {
     "iopub.execute_input": "2024-12-27T13:01:17.271337Z",
     "iopub.status.busy": "2024-12-27T13:01:17.270432Z",
     "iopub.status.idle": "2024-12-27T13:01:17.319365Z",
     "shell.execute_reply": "2024-12-27T13:01:17.318283Z"
    }
   },
   "outputs": [],
   "source": [
    "expr <- expr |> \n",
    "  dplyr::filter(gene_id %in% annot$gene_id) |>\n",
    "  tibble::column_to_rownames(\"gene_id\")"
   ]
  },
  {
   "cell_type": "code",
   "execution_count": 8,
   "id": "e2fbdfbc-a940-45d7-8cd4-d6bde498585c",
   "metadata": {
    "execution": {
     "iopub.execute_input": "2024-12-27T13:01:56.142777Z",
     "iopub.status.busy": "2024-12-27T13:01:56.141885Z",
     "iopub.status.idle": "2024-12-27T13:01:56.156385Z",
     "shell.execute_reply": "2024-12-27T13:01:56.155313Z"
    }
   },
   "outputs": [],
   "source": [
    "cov <- dplyr::mutate(cov, segregant_id = stringr::str_split_i(segregant_id, \"-\", 1))"
   ]
  },
  {
   "cell_type": "code",
   "execution_count": 22,
   "id": "db66a369-9685-41fc-8ae1-0b3cde3bb169",
   "metadata": {
    "execution": {
     "iopub.execute_input": "2024-12-27T14:02:01.377525Z",
     "iopub.status.busy": "2024-12-27T14:02:01.376440Z",
     "iopub.status.idle": "2024-12-27T14:02:02.452153Z",
     "shell.execute_reply": "2024-12-27T14:02:02.451244Z"
    }
   },
   "outputs": [],
   "source": [
    "# Transform to standard normal\n",
    "expr_irn <- t(apply(expr, 1, RNOmni::RankNorm))"
   ]
  },
  {
   "cell_type": "code",
   "execution_count": 25,
   "id": "09c90b07-0193-4a2c-bed7-f2bdebc833c8",
   "metadata": {
    "execution": {
     "iopub.execute_input": "2024-12-27T14:02:16.999433Z",
     "iopub.status.busy": "2024-12-27T14:02:16.998591Z",
     "iopub.status.idle": "2024-12-27T14:02:20.979504Z",
     "shell.execute_reply": "2024-12-27T14:02:20.978611Z"
    }
   },
   "outputs": [],
   "source": [
    "# Regress out the covariates\n",
    "expr_irn_rc <- apply(expr_irn, 1, \\(x) lm(gene ~ batch + od_covariate, data = cbind(cov, gene = x))$residuals)"
   ]
  },
  {
   "cell_type": "code",
   "execution_count": 29,
   "id": "629fc99b-2d6f-4338-856a-53a1b47dda42",
   "metadata": {
    "execution": {
     "iopub.execute_input": "2024-12-27T14:06:17.169390Z",
     "iopub.status.busy": "2024-12-27T14:06:17.168502Z",
     "iopub.status.idle": "2024-12-27T14:06:17.180768Z",
     "shell.execute_reply": "2024-12-27T14:06:17.179687Z"
    }
   },
   "outputs": [],
   "source": [
    "# Random seed for the holdout set partition\n",
    "set.seed(101)\n",
    "holdout_ids <- caret::createDataPartition(1:nrow(expr_irn_rc), p = 0.2)[[1]]"
   ]
  },
  {
   "cell_type": "code",
   "execution_count": 35,
   "id": "92dd70d6-5dce-4554-80a7-7e78f3c8f373",
   "metadata": {
    "execution": {
     "iopub.execute_input": "2024-12-27T14:17:39.710418Z",
     "iopub.status.busy": "2024-12-27T14:17:39.709451Z",
     "iopub.status.idle": "2024-12-27T14:17:39.744086Z",
     "shell.execute_reply": "2024-12-27T14:17:39.742839Z"
    }
   },
   "outputs": [],
   "source": [
    "expr_irn_rc_train <- expr_irn_rc[-holdout_ids, ]\n",
    "expr_irn_rc_holdout <- expr_irn_rc[holdout_ids, ]"
   ]
  },
  {
   "cell_type": "code",
   "execution_count": 33,
   "id": "fe036ef1-36f1-4322-ac60-9ab3f0695fd2",
   "metadata": {
    "execution": {
     "iopub.execute_input": "2024-12-27T14:16:06.067735Z",
     "iopub.status.busy": "2024-12-27T14:16:06.066788Z",
     "iopub.status.idle": "2024-12-27T14:16:06.432900Z",
     "shell.execute_reply": "2024-12-27T14:16:06.431847Z"
    }
   },
   "outputs": [],
   "source": [
    "gen <- gen |>\n",
    "  dplyr::select(-c(ref, alt)) |>\n",
    "  # Convert dosages to a one-hot encoded scheme\n",
    "  dplyr::mutate(across(starts_with(\"A\", ignore.case = FALSE), \\(x) (x + 1) / 2))"
   ]
  },
  {
   "cell_type": "code",
   "execution_count": 37,
   "id": "ddef126f-e697-4e88-a1f7-126722982d1e",
   "metadata": {
    "execution": {
     "iopub.execute_input": "2024-12-27T14:18:35.540925Z",
     "iopub.status.busy": "2024-12-27T14:18:35.539907Z",
     "iopub.status.idle": "2024-12-27T14:18:35.556648Z",
     "shell.execute_reply": "2024-12-27T14:18:35.555403Z"
    }
   },
   "outputs": [],
   "source": [
    "gen_train <- dplyr::select(gen, variant_id, chr, pos, all_of(rownames(expr_irn_rc_train)))\n",
    "gen_holdout <- dplyr::select(gen, variant_id, chr, pos, all_of(rownames(expr_irn_rc_holdout)))"
   ]
  },
  {
   "cell_type": "code",
   "execution_count": 42,
   "id": "9ffd70f5-de5f-4d3e-959b-64747e133078",
   "metadata": {
    "execution": {
     "iopub.execute_input": "2024-12-27T14:25:04.899949Z",
     "iopub.status.busy": "2024-12-27T14:25:04.898999Z",
     "iopub.status.idle": "2024-12-27T14:25:05.413044Z",
     "shell.execute_reply": "2024-12-27T14:25:05.412082Z"
    }
   },
   "outputs": [],
   "source": [
    "# This gets rid of the column names, but we don't need them since the samples are matched\n",
    "readr::write_tsv(\n",
    "  as.data.frame(expr_irn_rc_train), \n",
    "  \"../data/albert2018/interim/albert2018_expression_logtpm_irn_regcov_train.tsv\"\n",
    ")\n",
    "readr::write_tsv(\n",
    "  as.data.frame(expr_irn_rc_holdout), \n",
    "  \"../data/albert2018/interim/albert2018_expression_logtpm_irn_regcov_holdout.tsv\"\n",
    ")"
   ]
  },
  {
   "cell_type": "code",
   "execution_count": 41,
   "id": "28befbcb-5fb5-4467-abb2-66bd65012167",
   "metadata": {
    "execution": {
     "iopub.execute_input": "2024-12-27T14:24:01.989999Z",
     "iopub.status.busy": "2024-12-27T14:24:01.988987Z",
     "iopub.status.idle": "2024-12-27T14:24:02.380914Z",
     "shell.execute_reply": "2024-12-27T14:24:02.379798Z"
    }
   },
   "outputs": [],
   "source": [
    "readr::write_tsv(gen_train, \"../data/albert2018/interim/albert2018_genotypes_train.tsv\")\n",
    "readr::write_tsv(gen_holdout, \"../data/albert2018/interim/albert2018_genotypes_holdout.tsv\")"
   ]
  },
  {
   "cell_type": "code",
   "execution_count": null,
   "id": "fd8e3548-924d-4baa-ba71-2f664caf953e",
   "metadata": {},
   "outputs": [],
   "source": []
  }
 ],
 "metadata": {
  "kernelspec": {
   "display_name": "R 4.4.1",
   "language": "R",
   "name": "r441"
  },
  "language_info": {
   "codemirror_mode": "r",
   "file_extension": ".r",
   "mimetype": "text/x-r-source",
   "name": "R",
   "pygments_lexer": "r",
   "version": "4.4.1"
  }
 },
 "nbformat": 4,
 "nbformat_minor": 5
}
